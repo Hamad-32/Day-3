{
 "cells": [
  {
   "cell_type": "markdown",
   "metadata": {},
   "source": [
    "# Python_Lab_1.2"
   ]
  },
  {
   "cell_type": "markdown",
   "metadata": {},
   "source": [
    "### Task 1: \n",
    "1. Create a tuple with the following details:\n",
    "    - Your favorite movie (string)\n",
    "    - The year it was released (integer)\n",
    "    - Its rating out of 10 (float)\n",
    "    - Whether you have watched it (boolean)\n",
    "2. Print the detailes"
   ]
  },
  {
   "cell_type": "code",
   "execution_count": 1,
   "metadata": {},
   "outputs": [
    {
     "name": "stdout",
     "output_type": "stream",
     "text": [
      "('interstellar', 2014, 9.8, True)\n"
     ]
    }
   ],
   "source": [
    "# write your code here ^_^\n",
    "movie = ('interstellar', 2014, 9.8, True)\n",
    "\n",
    "print(movie)"
   ]
  },
  {
   "cell_type": "markdown",
   "metadata": {},
   "source": [
    "### Task 2:\n",
    "1. Create a set of 5 favorite colors.\n",
    "2. Print all the colors"
   ]
  },
  {
   "cell_type": "code",
   "execution_count": 5,
   "metadata": {},
   "outputs": [
    {
     "name": "stdout",
     "output_type": "stream",
     "text": [
      "{'Blue ', 'Gold', 'Red', 'Black', 'Yellow'}\n"
     ]
    }
   ],
   "source": [
    "# write your code here ^_^\n",
    "colors = {'Red', 'Black', 'Yellow', 'Blue ', 'Gold'}\n",
    "print(colors)"
   ]
  },
  {
   "cell_type": "markdown",
   "metadata": {},
   "source": [
    "### Task 3:\n",
    "1. Create a dictionary to store information about 3 friends (name as key and a tuple with age and favorite hobby as value).\n",
    "2. Print the details of all friends."
   ]
  },
  {
   "cell_type": "code",
   "execution_count": 15,
   "metadata": {},
   "outputs": [
    {
     "name": "stdout",
     "output_type": "stream",
     "text": [
      "Omer [22, 'Football']\n",
      "Talal [24, 'Tennis ']\n",
      "Ahmed [23, 'Padel']\n"
     ]
    }
   ],
   "source": [
    "# write your code here ^_^\n",
    "friends = {'Omer':[(22),'Football'], 'Talal':[(24),'Tennis '], 'Ahmed':[(23),'Padel']}\n",
    "\n",
    "for k, v in friends.items():\n",
    "    print(k,v)"
   ]
  },
  {
   "cell_type": "markdown",
   "metadata": {},
   "source": [
    "### Task 4:\n",
    "1. Check if you have watched the movie and print an appropriate message.\n",
    "1. Check if a specific color is in your favorite colors set and print its availability status."
   ]
  },
  {
   "cell_type": "code",
   "execution_count": 18,
   "metadata": {},
   "outputs": [
    {
     "name": "stdout",
     "output_type": "stream",
     "text": [
      "The movie I watched is interstellar, and it's released in 2014, and I rated him 9.8 of 10\n",
      "Sorry white it's not in my favorite colors set\n"
     ]
    }
   ],
   "source": [
    "# write your code here ^_^\n",
    "if movie[-1]:\n",
    "    print(f\"The movie I watched is {movie[0]}, and it's released in {movie[1]}, and I rated him {movie[2]} of 10\")\n",
    "else:\n",
    "    print(\"I have not watched the movie \")\n",
    "\n",
    "specific_color = 'white' # also u can ask the user by input() method \n",
    "\n",
    "if specific_color in colors:\n",
    "    print(f\"{specific_color} it's in my favorite colors set\")\n",
    "else:\n",
    "    print(f\"Sorry {specific_color} it's not in my favorite colors set\")"
   ]
  },
  {
   "cell_type": "markdown",
   "metadata": {},
   "source": []
  }
 ],
 "metadata": {
  "kernelspec": {
   "display_name": "Python 3",
   "language": "python",
   "name": "python3"
  },
  "language_info": {
   "codemirror_mode": {
    "name": "ipython",
    "version": 3
   },
   "file_extension": ".py",
   "mimetype": "text/x-python",
   "name": "python",
   "nbconvert_exporter": "python",
   "pygments_lexer": "ipython3",
   "version": "3.10.11"
  }
 },
 "nbformat": 4,
 "nbformat_minor": 2
}
